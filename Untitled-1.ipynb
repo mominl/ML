{
 "cells": [
  {
   "cell_type": "markdown",
   "id": "b0b09808",
   "metadata": {},
   "source": [
    "Data standardization the data to common formate and common range \n",
    "the process of standadizing the data to common formate and common range\n"
   ]
  },
  {
   "cell_type": "markdown",
   "id": "4a3ca36b",
   "metadata": {},
   "source": []
  }
 ],
 "metadata": {
  "language_info": {
   "name": "python"
  }
 },
 "nbformat": 4,
 "nbformat_minor": 5
}
